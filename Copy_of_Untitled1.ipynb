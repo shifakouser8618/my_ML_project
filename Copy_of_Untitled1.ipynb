{
  "nbformat": 4,
  "nbformat_minor": 0,
  "metadata": {
    "colab": {
      "provenance": [],
      "authorship_tag": "ABX9TyM9UAXCVAVWi7lE6ofLM7qw",
      "include_colab_link": true
    },
    "kernelspec": {
      "name": "python3",
      "display_name": "Python 3"
    },
    "language_info": {
      "name": "python"
    }
  },
  "cells": [
    {
      "cell_type": "markdown",
      "metadata": {
        "id": "view-in-github",
        "colab_type": "text"
      },
      "source": [
        "<a href=\"https://colab.research.google.com/github/shifakouser8618/my_ML_project/blob/main/Copy_of_Untitled1.ipynb\" target=\"_parent\"><img src=\"https://colab.research.google.com/assets/colab-badge.svg\" alt=\"Open In Colab\"/></a>"
      ]
    },
    {
      "cell_type": "code",
      "execution_count": null,
      "metadata": {
        "colab": {
          "base_uri": "https://localhost:8080/"
        },
        "id": "moyAuupfaL1U",
        "outputId": "7175a215-8c91-454f-ed1c-0b7a62e1fe4f"
      },
      "outputs": [
        {
          "output_type": "stream",
          "name": "stdout",
          "text": [
            "Requirement already satisfied: numpy in /usr/local/lib/python3.10/dist-packages (1.26.4)\n"
          ]
        }
      ],
      "source": [
        "pip install numpy"
      ]
    },
    {
      "cell_type": "code",
      "source": [
        "pip install scipy"
      ],
      "metadata": {
        "colab": {
          "base_uri": "https://localhost:8080/"
        },
        "id": "QAbZ0N-laSgY",
        "outputId": "719f3f73-0d52-4fe2-ae33-b1e393f06c7e"
      },
      "execution_count": null,
      "outputs": [
        {
          "output_type": "stream",
          "name": "stdout",
          "text": [
            "Requirement already satisfied: scipy in /usr/local/lib/python3.10/dist-packages (1.13.1)\n",
            "Requirement already satisfied: numpy<2.3,>=1.22.4 in /usr/local/lib/python3.10/dist-packages (from scipy) (1.26.4)\n"
          ]
        }
      ]
    },
    {
      "cell_type": "code",
      "source": [
        "pip install ligthfm"
      ],
      "metadata": {
        "colab": {
          "base_uri": "https://localhost:8080/"
        },
        "id": "HGxdpvokaZxB",
        "outputId": "47aa6e95-5da5-4bbe-b0eb-96d708bf2a79"
      },
      "execution_count": null,
      "outputs": [
        {
          "output_type": "stream",
          "name": "stdout",
          "text": [
            "\u001b[31mERROR: Could not find a version that satisfies the requirement ligthfm (from versions: none)\u001b[0m\u001b[31m\n",
            "\u001b[0m\u001b[31mERROR: No matching distribution found for ligthfm\u001b[0m\u001b[31m\n",
            "\u001b[0m"
          ]
        }
      ]
    },
    {
      "cell_type": "code",
      "source": [
        "pip install lightfm"
      ],
      "metadata": {
        "colab": {
          "base_uri": "https://localhost:8080/"
        },
        "id": "1aaaJklVapnU",
        "outputId": "31da8341-887b-4750-a6f2-cdb003b9cee7"
      },
      "execution_count": null,
      "outputs": [
        {
          "output_type": "stream",
          "name": "stdout",
          "text": [
            "Collecting lightfm\n",
            "  Downloading lightfm-1.17.tar.gz (316 kB)\n",
            "\u001b[?25l     \u001b[90m━━━━━━━━━━━━━━━━━━━━━━━━━━━━━━━━━━━━━━━━\u001b[0m \u001b[32m0.0/316.4 kB\u001b[0m \u001b[31m?\u001b[0m eta \u001b[36m-:--:--\u001b[0m\r\u001b[2K     \u001b[91m━━━━━━━━━━━━━━━━━━\u001b[0m\u001b[90m╺\u001b[0m\u001b[90m━━━━━━━━━━━━━━━━━━━━━\u001b[0m \u001b[32m143.4/316.4 kB\u001b[0m \u001b[31m4.1 MB/s\u001b[0m eta \u001b[36m0:00:01\u001b[0m\r\u001b[2K     \u001b[90m━━━━━━━━━━━━━━━━━━━━━━━━━━━━━━━━━━━━━━━━\u001b[0m \u001b[32m316.4/316.4 kB\u001b[0m \u001b[31m5.1 MB/s\u001b[0m eta \u001b[36m0:00:00\u001b[0m\n",
            "\u001b[?25h  Preparing metadata (setup.py) ... \u001b[?25l\u001b[?25hdone\n",
            "Requirement already satisfied: numpy in /usr/local/lib/python3.10/dist-packages (from lightfm) (1.26.4)\n",
            "Requirement already satisfied: scipy>=0.17.0 in /usr/local/lib/python3.10/dist-packages (from lightfm) (1.13.1)\n",
            "Requirement already satisfied: requests in /usr/local/lib/python3.10/dist-packages (from lightfm) (2.32.3)\n",
            "Requirement already satisfied: scikit-learn in /usr/local/lib/python3.10/dist-packages (from lightfm) (1.5.2)\n",
            "Requirement already satisfied: charset-normalizer<4,>=2 in /usr/local/lib/python3.10/dist-packages (from requests->lightfm) (3.4.0)\n",
            "Requirement already satisfied: idna<4,>=2.5 in /usr/local/lib/python3.10/dist-packages (from requests->lightfm) (3.10)\n",
            "Requirement already satisfied: urllib3<3,>=1.21.1 in /usr/local/lib/python3.10/dist-packages (from requests->lightfm) (2.2.3)\n",
            "Requirement already satisfied: certifi>=2017.4.17 in /usr/local/lib/python3.10/dist-packages (from requests->lightfm) (2024.8.30)\n",
            "Requirement already satisfied: joblib>=1.2.0 in /usr/local/lib/python3.10/dist-packages (from scikit-learn->lightfm) (1.4.2)\n",
            "Requirement already satisfied: threadpoolctl>=3.1.0 in /usr/local/lib/python3.10/dist-packages (from scikit-learn->lightfm) (3.5.0)\n",
            "Building wheels for collected packages: lightfm\n",
            "  Building wheel for lightfm (setup.py) ... \u001b[?25l\u001b[?25hdone\n",
            "  Created wheel for lightfm: filename=lightfm-1.17-cp310-cp310-linux_x86_64.whl size=808329 sha256=7e2d47097a276804f5d68746e59db3e734e58c53521541a1d461db1aa88aaab7\n",
            "  Stored in directory: /root/.cache/pip/wheels/4f/9b/7e/0b256f2168511d8fa4dae4fae0200fdbd729eb424a912ad636\n",
            "Successfully built lightfm\n",
            "Installing collected packages: lightfm\n",
            "Successfully installed lightfm-1.17\n"
          ]
        }
      ]
    },
    {
      "cell_type": "code",
      "source": [
        "\n",
        "#The code trains a LightFM model on the MovieLens dataset to predict user preferences for items. It\n",
        "#then uses the trained model to recommend items to specific users based on their past interactions.\n",
        "\n",
        "#This library is used for numerical operations, especially for working with arrays and matrices.[here\n",
        "#it is used for the arrangement]\n",
        "import numpy as np\n",
        "# This module provides functions to fetch popular datasets like\n",
        "# MovieLens for training and testing recommender systems.\n",
        "from lightfm.datasets import fetch_movielens\n",
        "#This is the core class for building and training LightFM models.\n",
        "from lightfm import LightFM\n",
        "\n",
        "# This line fetches the MovieLens dataset,\n",
        "#a popular benchmark dataset for recommender systems. The min_rating=4.0\n",
        "data=fetch_movielens(min_rating=4.0)\n",
        "#prints information about the training and testing sets\n",
        "print(repr(data['train']))\n",
        "print(repr(data['test']))\n",
        "\n",
        "\n",
        "# This creates a LightFM model instance. The 'warp' loss function is a\n",
        "# popular choice for collaborative filtering.\n",
        "model =LightFM(loss='warp')\n",
        "\n",
        "#This trains the model on the training data for 30 epochs,\n",
        "#utilizing 2 threads for parallel processing.\n",
        "model.fit(data['train'],epochs=30,num_threads=2)\n",
        "\n",
        "\n",
        "#This function takes a trained model, data, and a list of user IDs as input.\n",
        "#It iterates over each user ID:\n",
        "#Retrieves the items the user has interacted with positively.\n",
        "#Predicts scores for all items for the user.\n",
        "#Sorts the predicted scores and selects the top-ranked items.\n",
        "#Prints the user ID, known positive items, and recommended items.\n",
        "def sample_recommendation(model, data, user_ids):\n",
        "    n_users, n_items =data['train'].shape\n",
        "    for user_id in user_ids:\n",
        "        known_positives=data['item_labels'][data['train'].tocsr()[user_id].indices]\n",
        "        scores =model.predict(user_id,np.arange(n_items))\n",
        "        top_items = data['item_labels'][np.argsort(-scores)]\n",
        "        print(\"User %s\" % user_id)\n",
        "        print(\"   known positives:\")\n",
        "        for x in known_positives[:3]:\n",
        "            print(\"            %s\" % x)\n",
        "        print(\"    Recommended:\")\n",
        "        for x in top_items[:3]:\n",
        "            print(\"             %s\"  % x)\n",
        "\n",
        "sample_recommendation(model, data, [3,25,450])"
      ],
      "metadata": {
        "colab": {
          "base_uri": "https://localhost:8080/"
        },
        "id": "yfX5Xxsia_Bl",
        "outputId": "14c11dc5-ec5d-4a77-9809-d70877e5b58a"
      },
      "execution_count": null,
      "outputs": [
        {
          "output_type": "stream",
          "name": "stdout",
          "text": [
            "<943x1682 sparse matrix of type '<class 'numpy.int32'>'\n",
            "\twith 49906 stored elements in COOrdinate format>\n",
            "<943x1682 sparse matrix of type '<class 'numpy.int32'>'\n",
            "\twith 5469 stored elements in COOrdinate format>\n",
            "User 3\n",
            "   known positives:\n",
            "            S\n",
            "            C\n",
            "            S\n",
            "    Recommended:\n",
            "             S\n",
            "             A\n",
            "             D\n",
            "User 25\n",
            "   known positives:\n",
            "            D\n",
            "            S\n",
            "            F\n",
            "    Recommended:\n",
            "             L\n",
            "             C\n",
            "             F\n",
            "User 450\n",
            "   known positives:\n",
            "            C\n",
            "            G\n",
            "            E\n",
            "    Recommended:\n",
            "             A\n",
            "             D\n",
            "             K\n"
          ]
        }
      ]
    }
  ]
}